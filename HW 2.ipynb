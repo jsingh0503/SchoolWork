{
 "cells": [
  {
   "cell_type": "markdown",
   "metadata": {},
   "source": [
    "**2B. Take a postive integer n as an input from the user; construct a list of numbers upto (but not including) n. Solve this problem using Append method**"
   ]
  },
  {
   "cell_type": "code",
   "execution_count": 1,
   "metadata": {},
   "outputs": [
    {
     "name": "stdout",
     "output_type": "stream",
     "text": [
      "Enter number:6\n",
      "[0, 1, 2, 3, 4, 5]\n"
     ]
    }
   ],
   "source": [
    "n= int(input(\"Enter number:\"))\n",
    "r = []\n",
    "for i in range(n):\n",
    "    r.append(i)\n",
    "print(r)"
   ]
  },
  {
   "cell_type": "markdown",
   "metadata": {},
   "source": [
    "**3. Ask the user for a list of three favorite movies and store them in a list**"
   ]
  },
  {
   "cell_type": "code",
   "execution_count": 8,
   "metadata": {},
   "outputs": [
    {
     "name": "stdout",
     "output_type": "stream",
     "text": [
      "Enter favorite movies:John\n",
      "Enter favorite movies:Smith\n",
      "Enter favorite movies:Carl\n",
      "['John', 'Smith', 'Carl']\n"
     ]
    }
   ],
   "source": [
    "\n",
    "t = []\n",
    "for i in range(3):\n",
    "    n = input(\"Enter favorite movies:\")\n",
    "    t.append(n)\n",
    "print(t)"
   ]
  },
  {
   "cell_type": "markdown",
   "metadata": {},
   "source": [
    "**4a) Write a program to ask the use to enter n number of integers and store them in a list called nList. Assume that the user provides the value for n(ie the number of elemtns in the list)**"
   ]
  },
  {
   "cell_type": "code",
   "execution_count": 5,
   "metadata": {},
   "outputs": [
    {
     "name": "stdout",
     "output_type": "stream",
     "text": [
      "How many integers do you want:8\n",
      "Enter integers:89\n",
      "Enter integers:77\n",
      "Enter integers:-89\n",
      "Enter integers:67\n",
      "Enter integers:6767676\n",
      "Enter integers:78787\n",
      "Enter integers:8877689\n",
      "Enter integers:866556789\n",
      "[89, 77, -89, 67, 6767676, 78787, 8877689, 866556789]\n"
     ]
    }
   ],
   "source": [
    "r = int(input(\"How many integers do you want:\"))\n",
    "t = []\n",
    "for i in range(r):\n",
    "    n = int(input(\"Enter integers:\"))\n",
    "    t.append(n)\n",
    "print(t)"
   ]
  },
  {
   "cell_type": "markdown",
   "metadata": {},
   "source": [
    "**4b) Given a list called nlist (that contains numbers), write a program to compute the sume and the average of numbers in the list.  Do not use methods**"
   ]
  },
  {
   "cell_type": "code",
   "execution_count": 11,
   "metadata": {},
   "outputs": [
    {
     "name": "stdout",
     "output_type": "stream",
     "text": [
      "Sum: 15\n",
      "Average: 3.0\n"
     ]
    }
   ],
   "source": [
    "nlist = [1,2,3,4,5]\n",
    "total = 0\n",
    "for i in (nlist):\n",
    "    total+=i\n",
    "    avg = (1+i)/2\n",
    "print('Sum:',total) \n",
    "print(\"Average:\", avg)\n",
    "\n",
    "          "
   ]
  },
  {
   "cell_type": "markdown",
   "metadata": {},
   "source": [
    "5) Given a list called nlist (that contains numbers), write a program to find the largest number in the list (without using the list method)"
   ]
  },
  {
   "cell_type": "code",
   "execution_count": 13,
   "metadata": {},
   "outputs": [
    {
     "name": "stdout",
     "output_type": "stream",
     "text": [
      "34\n"
     ]
    }
   ],
   "source": [
    "nlist = [1,2,3,4,5,6,3,7,34,2]\n",
    "r = 0\n",
    "for i in (nlist):\n",
    "    if i>r:\n",
    "        r = i\n",
    "print(r)"
   ]
  },
  {
   "cell_type": "markdown",
   "metadata": {},
   "source": [
    "6) Given a list called n list (that contains numbers), write a program to sort the items in a list in descending order (without using the sort method)"
   ]
  },
  {
   "cell_type": "code",
   "execution_count": 16,
   "metadata": {},
   "outputs": [
    {
     "name": "stdout",
     "output_type": "stream",
     "text": [
      "[1, 2, 3, 4, 5, 6, 3, 7, 34, 2]\n"
     ]
    }
   ],
   "source": [
    "nlist = [1,2,3,4,5,6,3,7,34,2]\n",
    "r = 10000\n",
    "t= []\n",
    "for i in (nlist):\n",
    "    if r>i:\n",
    "        t.append(i)\n",
    "print(t)"
   ]
  },
  {
   "cell_type": "code",
   "execution_count": null,
   "metadata": {},
   "outputs": [],
   "source": []
  }
 ],
 "metadata": {
  "kernelspec": {
   "display_name": "Python 3",
   "language": "python",
   "name": "python3"
  },
  "language_info": {
   "codemirror_mode": {
    "name": "ipython",
    "version": 3
   },
   "file_extension": ".py",
   "mimetype": "text/x-python",
   "name": "python",
   "nbconvert_exporter": "python",
   "pygments_lexer": "ipython3",
   "version": "3.7.3"
  }
 },
 "nbformat": 4,
 "nbformat_minor": 2
}
