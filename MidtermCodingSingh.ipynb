{
 "cells": [
  {
   "cell_type": "markdown",
   "metadata": {},
   "source": [
    "NOTE: You can name the notebook anything you want this time (I will not batch download these). Make sure you at least attempt each of these."
   ]
  },
  {
   "cell_type": "code",
   "execution_count": 4,
   "metadata": {},
   "outputs": [
    {
     "name": "stdout",
     "output_type": "stream",
     "text": [
      "Number?56\n",
      "Row 1: 12345\n",
      "Row 2: 678910\n",
      "Row 3: 1112131415\n",
      "Row 4: 1617181920\n",
      "Row 5: 2122232425\n",
      "Row 6: 2627282930\n",
      "Row 7: 3132333435\n",
      "Row 8: 3637383940\n",
      "Row 9: 4142434445\n",
      "Row 10: 4647484950\n",
      "Row 11: 5152535455\n",
      "Row 12: 56\n"
     ]
    }
   ],
   "source": [
    "# Q1: 20 POINTS\n",
    "# Ask the user to input a number from 1 to 99 (but NOT 56). \n",
    "# Then, use a nested repetition structure to\n",
    "# print all numbers from 1 to that number, in 5 columns.\n",
    "# IMPORTANT: Each row in your solution should also have a row number\n",
    "# Should look like this:\n",
    "# Row 1: 12345\n",
    "# Row 2: 678910\n",
    "# ...etc. \n",
    "\n",
    "\n",
    "\n",
    "\n",
    "intNum = int(input(\"Input any number between 0-99 except 56: \"))\n",
    "strPrint = \"\"\n",
    "intCounter = 0\n",
    "rowCount = 0\n",
    "for row in range(intNum):\n",
    "    if intNum == 56:\n",
    "        print(\"Please select a different number.\")\n",
    "        break\n",
    "    for column in range(5):\n",
    "        intCounter += 1\n",
    "        rowCount +=.2\n",
    "        if intCounter == intNum + 1:\n",
    "            break\n",
    "        strPrint += str(intCounter)\n",
    "    print(\"Row\", int(rowCount), strPrint)\n",
    "    if intCounter == intNum + 1:\n",
    "        break\n",
    "    strPrint = \"\""
   ]
  },
  {
   "cell_type": "code",
   "execution_count": 1,
   "metadata": {},
   "outputs": [
    {
     "name": "stdout",
     "output_type": "stream",
     "text": [
      "{1: 10, 2: 20, 3: 30, 4: 40, 5: 150}\n",
      "Enter number: 5\n",
      "Not Found\n",
      "Not Found\n",
      "Not Found\n",
      "Not Found\n",
      "150\n"
     ]
    }
   ],
   "source": [
    "# Q2: 10 POINTS\n",
    "# Add a new entry to dcData with a key of 5 and a value of 100\n",
    "# Update the entry you just entered to have a value of 150 instead of 100\n",
    "# Ask the user for an input. If the input is a key in the dictionary, print the corresponding value;\n",
    "# If it isn't in the dictionary, print \"Not Found\"\n",
    "\n",
    "dcData = {1:10,2:20,3:30,4:40,5:100}\n",
    "dcData[5] = 150\n",
    "print(dcData)\n",
    "user = int(input(\"Enter number: \"))\n",
    "\n",
    "for x,y in dcData.items():\n",
    "    if user==x:\n",
    "        print(y)\n",
    "    if user != x:\n",
    "        print(\"Not Found\")"
   ]
  },
  {
   "cell_type": "code",
   "execution_count": 2,
   "metadata": {},
   "outputs": [
    {
     "name": "stdout",
     "output_type": "stream",
     "text": [
      "Enrique Riddle\n",
      "\n",
      "Derick Huffman\n",
      "\n",
      "Zain Mullen\n",
      "\n",
      "Karissa Briggs\n",
      "\n",
      "Chanel Hoffman\n",
      "\n",
      "Levi Floyd\n",
      "\n",
      "Lukas Watkins\n",
      "\n",
      "Karson Richardson\n",
      "\n",
      "Lilyana Collins\n",
      "\n",
      "Giancarlo Winters\n",
      "\n",
      "Iyana Hodge\n",
      "\n",
      "Layla Villegas\n",
      "\n",
      "Aaden Poole\n",
      "\n",
      "Adriana Cantu\n",
      "\n",
      "Nico Morton\n",
      "\n",
      "Trevin Edwards\n",
      "\n",
      "Ashly Parish\n",
      "\n",
      "Jazlene Woodard\n",
      "\n",
      "Abigai1 Navarro\n",
      "\n",
      "Kathryn Pitts\n",
      "\n",
      "Malia Harding\n",
      "\n",
      "Alannah Rowland\n",
      "\n",
      "Reilly Atkinson\n",
      "\n",
      "Molly Forbes\n",
      "\n",
      "Bryson Norman\n",
      "\n",
      "Addisyn Fisher\n",
      "\n",
      "Aileen Jimenez\n",
      "\n",
      "Reed Deleon\n",
      "\n",
      "Frances Potts\n",
      "\n",
      "Kaden Parker\n",
      "{1: 'Enrique Riddle\\n', 2: 'Derick Huffman\\n', 3: 'Zain Mullen\\n', 4: 'Karissa Briggs\\n', 5: 'Chanel Hoffman\\n', 6: 'Levi Floyd\\n', 7: 'Lukas Watkins\\n', 8: 'Karson Richardson\\n', 9: 'Lilyana Collins\\n', 10: 'Giancarlo Winters\\n', 11: 'Iyana Hodge\\n', 12: 'Layla Villegas\\n', 13: 'Aaden Poole\\n', 14: 'Adriana Cantu\\n', 15: 'Nico Morton\\n', 16: 'Trevin Edwards\\n', 17: 'Ashly Parish\\n', 18: 'Jazlene Woodard\\n', 19: 'Abigai1 Navarro\\n', 20: 'Kathryn Pitts\\n', 21: 'Malia Harding\\n', 22: 'Alannah Rowland\\n', 23: 'Reilly Atkinson\\n', 24: 'Molly Forbes\\n', 25: 'Bryson Norman\\n', 26: 'Addisyn Fisher\\n', 27: 'Aileen Jimenez\\n', 28: 'Reed Deleon\\n', 29: 'Frances Potts\\n', 30: 'Kaden Parker'}\n"
     ]
    }
   ],
   "source": [
    "# Q3: 10 POINTS\n",
    "# This program should read Names.txt and builds a dictionary\n",
    "# The key for each entry will be the number that indicates where the name is in Names.txt\n",
    "# So, the first entry would be 1: 'Enrique Riddle'\n",
    "# Print the dictionary at the end\n",
    "dctStudent = {}\n",
    "count =1\n",
    "foName = open(\"Names.txt\",\"r\")\n",
    "for x in foName:\n",
    "    dctStudent[count]=x\n",
    "    count +=1\n",
    "    print(x)\n",
    "print(dctStudent)"
   ]
  },
  {
   "cell_type": "code",
   "execution_count": null,
   "metadata": {},
   "outputs": [],
   "source": []
  }
 ],
 "metadata": {
  "kernelspec": {
   "display_name": "Python 3",
   "language": "python",
   "name": "python3"
  },
  "language_info": {
   "codemirror_mode": {
    "name": "ipython",
    "version": 3
   },
   "file_extension": ".py",
   "mimetype": "text/x-python",
   "name": "python",
   "nbconvert_exporter": "python",
   "pygments_lexer": "ipython3",
   "version": "3.7.3"
  }
 },
 "nbformat": 4,
 "nbformat_minor": 2
}
