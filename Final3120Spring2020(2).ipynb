{
 "cells": [
  {
   "cell_type": "markdown",
   "metadata": {},
   "source": [
    "Similar to my Tigers experiment, I assigned students to be chased by bears. This time, my theory was that the more bears, the faster the students would run. So, use Bears.csv to test my theory with a plot from seaborn."
   ]
  },
  {
   "cell_type": "code",
   "execution_count": 5,
   "metadata": {},
   "outputs": [
    {
     "data": {
      "text/plain": [
       "<seaborn.axisgrid.FacetGrid at 0x1a1fa0d400>"
      ]
     },
     "execution_count": 5,
     "metadata": {},
     "output_type": "execute_result"
    },
    {
     "data": {
      "image/png": "[encoded data removed]",
      "text/plain": [
       "<Figure size 360x360 with 1 Axes>"
      ]
     },
     "metadata": {
      "needs_background": "light"
     },
     "output_type": "display_data"
    }
   ],
   "source": [
    "import pandas as pd\n",
    "dfBears = pd.read_csv(\"Bears.csv\")\n",
    "dfBears.head()\n",
    "import seaborn as sns\n",
    "sns.lmplot(x='NumBears', y = 'Speed', data = dfBears)"
   ]
  },
  {
   "cell_type": "code",
   "execution_count": 6,
   "metadata": {},
   "outputs": [
    {
     "data": {
      "text/html": [
       "<div>\n",
       "<style scoped>\n",
       "    .dataframe tbody tr th:only-of-type {\n",
       "        vertical-align: middle;\n",
       "    }\n",
       "\n",
       "    .dataframe tbody tr th {\n",
       "        vertical-align: top;\n",
       "    }\n",
       "\n",
       "    .dataframe thead th {\n",
       "        text-align: right;\n",
       "    }\n",
       "</style>\n",
       "<table border=\"1\" class=\"dataframe\">\n",
       "  <thead>\n",
       "    <tr style=\"text-align: right;\">\n",
       "      <th></th>\n",
       "      <th>CUNY_ID</th>\n",
       "      <th>NumBears</th>\n",
       "      <th>Speed</th>\n",
       "      <th>Unnamed: 3</th>\n",
       "      <th>Unnamed: 4</th>\n",
       "      <th>Unnamed: 5</th>\n",
       "    </tr>\n",
       "  </thead>\n",
       "  <tbody>\n",
       "    <tr>\n",
       "      <th>0</th>\n",
       "      <td>19539</td>\n",
       "      <td>1</td>\n",
       "      <td>1.2</td>\n",
       "      <td>NaN</td>\n",
       "      <td>NaN</td>\n",
       "      <td>NaN</td>\n",
       "    </tr>\n",
       "    <tr>\n",
       "      <th>1</th>\n",
       "      <td>99968</td>\n",
       "      <td>2</td>\n",
       "      <td>3.8</td>\n",
       "      <td>NaN</td>\n",
       "      <td>NaN</td>\n",
       "      <td>NaN</td>\n",
       "    </tr>\n",
       "    <tr>\n",
       "      <th>2</th>\n",
       "      <td>11759</td>\n",
       "      <td>2</td>\n",
       "      <td>4.0</td>\n",
       "      <td>NaN</td>\n",
       "      <td>NaN</td>\n",
       "      <td>NaN</td>\n",
       "    </tr>\n",
       "    <tr>\n",
       "      <th>3</th>\n",
       "      <td>72487</td>\n",
       "      <td>3</td>\n",
       "      <td>3.3</td>\n",
       "      <td>NaN</td>\n",
       "      <td>NaN</td>\n",
       "      <td>NaN</td>\n",
       "    </tr>\n",
       "    <tr>\n",
       "      <th>4</th>\n",
       "      <td>70794</td>\n",
       "      <td>3</td>\n",
       "      <td>5.7</td>\n",
       "      <td>NaN</td>\n",
       "      <td>NaN</td>\n",
       "      <td>NaN</td>\n",
       "    </tr>\n",
       "  </tbody>\n",
       "</table>\n",
       "</div>"
      ],
      "text/plain": [
       "   CUNY_ID  NumBears  Speed  Unnamed: 3  Unnamed: 4  Unnamed: 5\n",
       "0    19539         1    1.2         NaN         NaN         NaN\n",
       "1    99968         2    3.8         NaN         NaN         NaN\n",
       "2    11759         2    4.0         NaN         NaN         NaN\n",
       "3    72487         3    3.3         NaN         NaN         NaN\n",
       "4    70794         3    5.7         NaN         NaN         NaN"
      ]
     },
     "execution_count": 6,
     "metadata": {},
     "output_type": "execute_result"
    }
   ],
   "source": [
    "dfBears.head()"
   ]
  },
  {
   "cell_type": "markdown",
   "metadata": {},
   "source": [
    "Now, bring in StudentsAttend.csv and see if I assigned more bears to students who attended fewer classes."
   ]
  },
  {
   "cell_type": "code",
   "execution_count": 8,
   "metadata": {},
   "outputs": [
    {
     "name": "stdout",
     "output_type": "stream",
     "text": [
      "22.566666666666666\n"
     ]
    },
    {
     "data": {
      "text/html": [
       "<div>\n",
       "<style scoped>\n",
       "    .dataframe tbody tr th:only-of-type {\n",
       "        vertical-align: middle;\n",
       "    }\n",
       "\n",
       "    .dataframe tbody tr th {\n",
       "        vertical-align: top;\n",
       "    }\n",
       "\n",
       "    .dataframe thead th {\n",
       "        text-align: right;\n",
       "    }\n",
       "</style>\n",
       "<table border=\"1\" class=\"dataframe\">\n",
       "  <thead>\n",
       "    <tr style=\"text-align: right;\">\n",
       "      <th></th>\n",
       "      <th>CUNY_ID</th>\n",
       "      <th>FirstName</th>\n",
       "      <th>LastName</th>\n",
       "      <th>Hours_Studied</th>\n",
       "      <th>Attendance</th>\n",
       "    </tr>\n",
       "  </thead>\n",
       "  <tbody>\n",
       "    <tr>\n",
       "      <th>0</th>\n",
       "      <td>63739</td>\n",
       "      <td>Enrique</td>\n",
       "      <td>Riddle</td>\n",
       "      <td>41</td>\n",
       "      <td>25</td>\n",
       "    </tr>\n",
       "    <tr>\n",
       "      <th>1</th>\n",
       "      <td>43142</td>\n",
       "      <td>Derick</td>\n",
       "      <td>Huffman</td>\n",
       "      <td>31</td>\n",
       "      <td>24</td>\n",
       "    </tr>\n",
       "    <tr>\n",
       "      <th>2</th>\n",
       "      <td>14710</td>\n",
       "      <td>Zain</td>\n",
       "      <td>Mullen</td>\n",
       "      <td>43</td>\n",
       "      <td>15</td>\n",
       "    </tr>\n",
       "    <tr>\n",
       "      <th>3</th>\n",
       "      <td>39023</td>\n",
       "      <td>Karissa</td>\n",
       "      <td>Briggs</td>\n",
       "      <td>32</td>\n",
       "      <td>19</td>\n",
       "    </tr>\n",
       "    <tr>\n",
       "      <th>4</th>\n",
       "      <td>81382</td>\n",
       "      <td>Chanel</td>\n",
       "      <td>Hoffman</td>\n",
       "      <td>31</td>\n",
       "      <td>24</td>\n",
       "    </tr>\n",
       "  </tbody>\n",
       "</table>\n",
       "</div>"
      ],
      "text/plain": [
       "   CUNY_ID FirstName LastName  Hours_Studied  Attendance\n",
       "0    63739   Enrique   Riddle             41          25\n",
       "1    43142    Derick  Huffman             31          24\n",
       "2    14710      Zain   Mullen             43          15\n",
       "3    39023   Karissa   Briggs             32          19\n",
       "4    81382    Chanel  Hoffman             31          24"
      ]
     },
     "execution_count": 8,
     "metadata": {},
     "output_type": "execute_result"
    }
   ],
   "source": [
    "dfStAt = pd.read_csv(\"StudentsAttend.csv\")\n",
    "print(dfStAt[\"Attendance\"].mean())\n",
    "dfStAt.head()"
   ]
  },
  {
   "cell_type": "code",
   "execution_count": 11,
   "metadata": {},
   "outputs": [
    {
     "data": {
      "text/html": [
       "<div>\n",
       "<style scoped>\n",
       "    .dataframe tbody tr th:only-of-type {\n",
       "        vertical-align: middle;\n",
       "    }\n",
       "\n",
       "    .dataframe tbody tr th {\n",
       "        vertical-align: top;\n",
       "    }\n",
       "\n",
       "    .dataframe thead th {\n",
       "        text-align: right;\n",
       "    }\n",
       "</style>\n",
       "<table border=\"1\" class=\"dataframe\">\n",
       "  <thead>\n",
       "    <tr style=\"text-align: right;\">\n",
       "      <th></th>\n",
       "      <th>CUNY_ID</th>\n",
       "      <th>FirstName</th>\n",
       "      <th>LastName</th>\n",
       "      <th>Hours_Studied</th>\n",
       "      <th>Attendance</th>\n",
       "      <th>SplitAttend</th>\n",
       "    </tr>\n",
       "  </thead>\n",
       "  <tbody>\n",
       "    <tr>\n",
       "      <th>0</th>\n",
       "      <td>63739</td>\n",
       "      <td>Enrique</td>\n",
       "      <td>Riddle</td>\n",
       "      <td>41</td>\n",
       "      <td>25</td>\n",
       "      <td>1</td>\n",
       "    </tr>\n",
       "    <tr>\n",
       "      <th>1</th>\n",
       "      <td>43142</td>\n",
       "      <td>Derick</td>\n",
       "      <td>Huffman</td>\n",
       "      <td>31</td>\n",
       "      <td>24</td>\n",
       "      <td>1</td>\n",
       "    </tr>\n",
       "    <tr>\n",
       "      <th>2</th>\n",
       "      <td>14710</td>\n",
       "      <td>Zain</td>\n",
       "      <td>Mullen</td>\n",
       "      <td>43</td>\n",
       "      <td>15</td>\n",
       "      <td>-1</td>\n",
       "    </tr>\n",
       "    <tr>\n",
       "      <th>3</th>\n",
       "      <td>39023</td>\n",
       "      <td>Karissa</td>\n",
       "      <td>Briggs</td>\n",
       "      <td>32</td>\n",
       "      <td>19</td>\n",
       "      <td>-1</td>\n",
       "    </tr>\n",
       "    <tr>\n",
       "      <th>4</th>\n",
       "      <td>81382</td>\n",
       "      <td>Chanel</td>\n",
       "      <td>Hoffman</td>\n",
       "      <td>31</td>\n",
       "      <td>24</td>\n",
       "      <td>1</td>\n",
       "    </tr>\n",
       "  </tbody>\n",
       "</table>\n",
       "</div>"
      ],
      "text/plain": [
       "   CUNY_ID FirstName LastName  Hours_Studied  Attendance  SplitAttend\n",
       "0    63739   Enrique   Riddle             41          25            1\n",
       "1    43142    Derick  Huffman             31          24            1\n",
       "2    14710      Zain   Mullen             43          15           -1\n",
       "3    39023   Karissa   Briggs             32          19           -1\n",
       "4    81382    Chanel  Hoffman             31          24            1"
      ]
     },
     "execution_count": 11,
     "metadata": {},
     "output_type": "execute_result"
    }
   ],
   "source": [
    "dfStAt[\"SplitAttend\"] = [1 if columnvalue > 22.5 else -1 for columnvalue in dfStAt['Attendance']]\n",
    "dfStAt.head()\n"
   ]
  },
  {
   "cell_type": "code",
   "execution_count": 12,
   "metadata": {},
   "outputs": [
    {
     "data": {
      "text/html": [
       "<div>\n",
       "<style scoped>\n",
       "    .dataframe tbody tr th:only-of-type {\n",
       "        vertical-align: middle;\n",
       "    }\n",
       "\n",
       "    .dataframe tbody tr th {\n",
       "        vertical-align: top;\n",
       "    }\n",
       "\n",
       "    .dataframe thead th {\n",
       "        text-align: right;\n",
       "    }\n",
       "</style>\n",
       "<table border=\"1\" class=\"dataframe\">\n",
       "  <thead>\n",
       "    <tr style=\"text-align: right;\">\n",
       "      <th></th>\n",
       "      <th>CUNY_ID</th>\n",
       "      <th>NumBears</th>\n",
       "      <th>Speed</th>\n",
       "      <th>Unnamed: 3</th>\n",
       "      <th>Unnamed: 4</th>\n",
       "      <th>Unnamed: 5</th>\n",
       "      <th>FirstName</th>\n",
       "      <th>LastName</th>\n",
       "      <th>Hours_Studied</th>\n",
       "      <th>Attendance</th>\n",
       "      <th>SplitAttend</th>\n",
       "    </tr>\n",
       "  </thead>\n",
       "  <tbody>\n",
       "    <tr>\n",
       "      <th>0</th>\n",
       "      <td>19539</td>\n",
       "      <td>1</td>\n",
       "      <td>1.2</td>\n",
       "      <td>NaN</td>\n",
       "      <td>NaN</td>\n",
       "      <td>NaN</td>\n",
       "      <td>Jazlene</td>\n",
       "      <td>Woodard</td>\n",
       "      <td>46</td>\n",
       "      <td>28</td>\n",
       "      <td>1</td>\n",
       "    </tr>\n",
       "    <tr>\n",
       "      <th>1</th>\n",
       "      <td>99968</td>\n",
       "      <td>2</td>\n",
       "      <td>3.8</td>\n",
       "      <td>NaN</td>\n",
       "      <td>NaN</td>\n",
       "      <td>NaN</td>\n",
       "      <td>Layla</td>\n",
       "      <td>Villegas</td>\n",
       "      <td>47</td>\n",
       "      <td>28</td>\n",
       "      <td>1</td>\n",
       "    </tr>\n",
       "    <tr>\n",
       "      <th>2</th>\n",
       "      <td>11759</td>\n",
       "      <td>2</td>\n",
       "      <td>4.0</td>\n",
       "      <td>NaN</td>\n",
       "      <td>NaN</td>\n",
       "      <td>NaN</td>\n",
       "      <td>Trevin</td>\n",
       "      <td>Edwards</td>\n",
       "      <td>47</td>\n",
       "      <td>28</td>\n",
       "      <td>1</td>\n",
       "    </tr>\n",
       "    <tr>\n",
       "      <th>3</th>\n",
       "      <td>72487</td>\n",
       "      <td>3</td>\n",
       "      <td>3.3</td>\n",
       "      <td>NaN</td>\n",
       "      <td>NaN</td>\n",
       "      <td>NaN</td>\n",
       "      <td>Karson</td>\n",
       "      <td>Richardson</td>\n",
       "      <td>47</td>\n",
       "      <td>27</td>\n",
       "      <td>1</td>\n",
       "    </tr>\n",
       "    <tr>\n",
       "      <th>4</th>\n",
       "      <td>70794</td>\n",
       "      <td>3</td>\n",
       "      <td>5.7</td>\n",
       "      <td>NaN</td>\n",
       "      <td>NaN</td>\n",
       "      <td>NaN</td>\n",
       "      <td>Aileen</td>\n",
       "      <td>Jimenez</td>\n",
       "      <td>46</td>\n",
       "      <td>26</td>\n",
       "      <td>1</td>\n",
       "    </tr>\n",
       "  </tbody>\n",
       "</table>\n",
       "</div>"
      ],
      "text/plain": [
       "   CUNY_ID  NumBears  Speed  Unnamed: 3  Unnamed: 4  Unnamed: 5 FirstName  \\\n",
       "0    19539         1    1.2         NaN         NaN         NaN   Jazlene   \n",
       "1    99968         2    3.8         NaN         NaN         NaN     Layla   \n",
       "2    11759         2    4.0         NaN         NaN         NaN    Trevin   \n",
       "3    72487         3    3.3         NaN         NaN         NaN    Karson   \n",
       "4    70794         3    5.7         NaN         NaN         NaN    Aileen   \n",
       "\n",
       "     LastName  Hours_Studied  Attendance  SplitAttend  \n",
       "0     Woodard             46          28            1  \n",
       "1    Villegas             47          28            1  \n",
       "2     Edwards             47          28            1  \n",
       "3  Richardson             47          27            1  \n",
       "4     Jimenez             46          26            1  "
      ]
     },
     "execution_count": 12,
     "metadata": {},
     "output_type": "execute_result"
    }
   ],
   "source": [
    "dfBearsStAt = pd.merge(dfBears, dfStAt, on=\"CUNY_ID\")\n",
    "dfBearsStAt.head()"
   ]
  },
  {
   "cell_type": "code",
   "execution_count": 14,
   "metadata": {},
   "outputs": [
    {
     "data": {
      "text/plain": [
       "<seaborn.axisgrid.FacetGrid at 0x1a1ff642b0>"
      ]
     },
     "execution_count": 14,
     "metadata": {},
     "output_type": "execute_result"
    },
    {
     "data": {
      "image/png": "[encoded data removed]",
      "text/plain": [
       "<Figure size 423.625x360 with 1 Axes>"
      ]
     },
     "metadata": {
      "needs_background": "light"
     },
     "output_type": "display_data"
    }
   ],
   "source": [
    "sns.lmplot(x='NumBears', y = 'Speed', data = dfBearsStAt, hue = 'SplitAttend')"
   ]
  },
  {
   "cell_type": "markdown",
   "metadata": {},
   "source": [
    "Finally, check to see if the relationship between class attendance and number of bears is different for the students with different grades (use StudentsGrades.csv)."
   ]
  },
  {
   "cell_type": "code",
   "execution_count": 15,
   "metadata": {},
   "outputs": [
    {
     "data": {
      "text/html": [
       "<div>\n",
       "<style scoped>\n",
       "    .dataframe tbody tr th:only-of-type {\n",
       "        vertical-align: middle;\n",
       "    }\n",
       "\n",
       "    .dataframe tbody tr th {\n",
       "        vertical-align: top;\n",
       "    }\n",
       "\n",
       "    .dataframe thead th {\n",
       "        text-align: right;\n",
       "    }\n",
       "</style>\n",
       "<table border=\"1\" class=\"dataframe\">\n",
       "  <thead>\n",
       "    <tr style=\"text-align: right;\">\n",
       "      <th></th>\n",
       "      <th>CUNY_ID</th>\n",
       "      <th>FirstName</th>\n",
       "      <th>LastName</th>\n",
       "      <th>Grade</th>\n",
       "      <th>SplitGrade</th>\n",
       "    </tr>\n",
       "  </thead>\n",
       "  <tbody>\n",
       "    <tr>\n",
       "      <th>0</th>\n",
       "      <td>63739</td>\n",
       "      <td>Enrique</td>\n",
       "      <td>Riddle</td>\n",
       "      <td>85</td>\n",
       "      <td>Good Grades</td>\n",
       "    </tr>\n",
       "    <tr>\n",
       "      <th>1</th>\n",
       "      <td>43142</td>\n",
       "      <td>Derick</td>\n",
       "      <td>Huffman</td>\n",
       "      <td>77</td>\n",
       "      <td>Bad Grades</td>\n",
       "    </tr>\n",
       "    <tr>\n",
       "      <th>2</th>\n",
       "      <td>14710</td>\n",
       "      <td>Zain</td>\n",
       "      <td>Mullen</td>\n",
       "      <td>69</td>\n",
       "      <td>Bad Grades</td>\n",
       "    </tr>\n",
       "    <tr>\n",
       "      <th>3</th>\n",
       "      <td>39023</td>\n",
       "      <td>Karissa</td>\n",
       "      <td>Briggs</td>\n",
       "      <td>73</td>\n",
       "      <td>Bad Grades</td>\n",
       "    </tr>\n",
       "    <tr>\n",
       "      <th>4</th>\n",
       "      <td>81382</td>\n",
       "      <td>Chanel</td>\n",
       "      <td>Hoffman</td>\n",
       "      <td>79</td>\n",
       "      <td>Bad Grades</td>\n",
       "    </tr>\n",
       "  </tbody>\n",
       "</table>\n",
       "</div>"
      ],
      "text/plain": [
       "   CUNY_ID FirstName LastName  Grade   SplitGrade\n",
       "0    63739   Enrique   Riddle     85  Good Grades\n",
       "1    43142    Derick  Huffman     77   Bad Grades\n",
       "2    14710      Zain   Mullen     69   Bad Grades\n",
       "3    39023   Karissa   Briggs     73   Bad Grades\n",
       "4    81382    Chanel  Hoffman     79   Bad Grades"
      ]
     },
     "execution_count": 15,
     "metadata": {},
     "output_type": "execute_result"
    }
   ],
   "source": [
    "dfStG = pd.read_csv(\"StudentsGrades.csv\")\n",
    "dfStG.head()\n"
   ]
  },
  {
   "cell_type": "code",
   "execution_count": 17,
   "metadata": {},
   "outputs": [
    {
     "data": {
      "text/html": [
       "<div>\n",
       "<style scoped>\n",
       "    .dataframe tbody tr th:only-of-type {\n",
       "        vertical-align: middle;\n",
       "    }\n",
       "\n",
       "    .dataframe tbody tr th {\n",
       "        vertical-align: top;\n",
       "    }\n",
       "\n",
       "    .dataframe thead th {\n",
       "        text-align: right;\n",
       "    }\n",
       "</style>\n",
       "<table border=\"1\" class=\"dataframe\">\n",
       "  <thead>\n",
       "    <tr style=\"text-align: right;\">\n",
       "      <th></th>\n",
       "      <th>CUNY_ID</th>\n",
       "      <th>NumBears</th>\n",
       "      <th>Speed</th>\n",
       "      <th>Unnamed: 3</th>\n",
       "      <th>Unnamed: 4</th>\n",
       "      <th>Unnamed: 5</th>\n",
       "      <th>FirstName</th>\n",
       "      <th>LastName</th>\n",
       "      <th>Grade</th>\n",
       "      <th>SplitGrade</th>\n",
       "    </tr>\n",
       "  </thead>\n",
       "  <tbody>\n",
       "    <tr>\n",
       "      <th>0</th>\n",
       "      <td>19539</td>\n",
       "      <td>1</td>\n",
       "      <td>1.2</td>\n",
       "      <td>NaN</td>\n",
       "      <td>NaN</td>\n",
       "      <td>NaN</td>\n",
       "      <td>Jazlene</td>\n",
       "      <td>Woodard</td>\n",
       "      <td>96</td>\n",
       "      <td>Good Grades</td>\n",
       "    </tr>\n",
       "    <tr>\n",
       "      <th>1</th>\n",
       "      <td>99968</td>\n",
       "      <td>2</td>\n",
       "      <td>3.8</td>\n",
       "      <td>NaN</td>\n",
       "      <td>NaN</td>\n",
       "      <td>NaN</td>\n",
       "      <td>Layla</td>\n",
       "      <td>Villegas</td>\n",
       "      <td>95</td>\n",
       "      <td>Good Grades</td>\n",
       "    </tr>\n",
       "    <tr>\n",
       "      <th>2</th>\n",
       "      <td>11759</td>\n",
       "      <td>2</td>\n",
       "      <td>4.0</td>\n",
       "      <td>NaN</td>\n",
       "      <td>NaN</td>\n",
       "      <td>NaN</td>\n",
       "      <td>Trevin</td>\n",
       "      <td>Edwards</td>\n",
       "      <td>94</td>\n",
       "      <td>Good Grades</td>\n",
       "    </tr>\n",
       "    <tr>\n",
       "      <th>3</th>\n",
       "      <td>72487</td>\n",
       "      <td>3</td>\n",
       "      <td>3.3</td>\n",
       "      <td>NaN</td>\n",
       "      <td>NaN</td>\n",
       "      <td>NaN</td>\n",
       "      <td>Karson</td>\n",
       "      <td>Richardson</td>\n",
       "      <td>93</td>\n",
       "      <td>Good Grades</td>\n",
       "    </tr>\n",
       "    <tr>\n",
       "      <th>4</th>\n",
       "      <td>70794</td>\n",
       "      <td>3</td>\n",
       "      <td>5.7</td>\n",
       "      <td>NaN</td>\n",
       "      <td>NaN</td>\n",
       "      <td>NaN</td>\n",
       "      <td>Aileen</td>\n",
       "      <td>Jimenez</td>\n",
       "      <td>92</td>\n",
       "      <td>Good Grades</td>\n",
       "    </tr>\n",
       "  </tbody>\n",
       "</table>\n",
       "</div>"
      ],
      "text/plain": [
       "   CUNY_ID  NumBears  Speed  Unnamed: 3  Unnamed: 4  Unnamed: 5 FirstName  \\\n",
       "0    19539         1    1.2         NaN         NaN         NaN   Jazlene   \n",
       "1    99968         2    3.8         NaN         NaN         NaN     Layla   \n",
       "2    11759         2    4.0         NaN         NaN         NaN    Trevin   \n",
       "3    72487         3    3.3         NaN         NaN         NaN    Karson   \n",
       "4    70794         3    5.7         NaN         NaN         NaN    Aileen   \n",
       "\n",
       "     LastName  Grade   SplitGrade  \n",
       "0     Woodard     96  Good Grades  \n",
       "1    Villegas     95  Good Grades  \n",
       "2     Edwards     94  Good Grades  \n",
       "3  Richardson     93  Good Grades  \n",
       "4     Jimenez     92  Good Grades  "
      ]
     },
     "execution_count": 17,
     "metadata": {},
     "output_type": "execute_result"
    }
   ],
   "source": [
    "dfBearsStG = pd.merge(dfBears, dfStG, on=\"CUNY_ID\")\n",
    "dfBearsStG.head()"
   ]
  },
  {
   "cell_type": "code",
   "execution_count": 18,
   "metadata": {},
   "outputs": [
    {
     "data": {
      "text/plain": [
       "<seaborn.axisgrid.FacetGrid at 0x1a1ff74b38>"
      ]
     },
     "execution_count": 18,
     "metadata": {},
     "output_type": "execute_result"
    },
    {
     "data": {
      "image/png": "[encoded data removed]",
      "text/plain": [
       "<Figure size 461x360 with 1 Axes>"
      ]
     },
     "metadata": {
      "needs_background": "light"
     },
     "output_type": "display_data"
    }
   ],
   "source": [
    "sns.lmplot(x='NumBears', y = 'Speed', data = dfBearsStG, hue = 'SplitGrade')"
   ]
  },
  {
   "cell_type": "markdown",
   "metadata": {},
   "source": [
    "Now, insert a new column in the dataframe you just used. Call that column \"GradePlusHours\" and have its value be that of each student's Grade plus their Hours_Studied."
   ]
  },
  {
   "cell_type": "code",
   "execution_count": 19,
   "metadata": {},
   "outputs": [
    {
     "data": {
      "text/html": [
       "<div>\n",
       "<style scoped>\n",
       "    .dataframe tbody tr th:only-of-type {\n",
       "        vertical-align: middle;\n",
       "    }\n",
       "\n",
       "    .dataframe tbody tr th {\n",
       "        vertical-align: top;\n",
       "    }\n",
       "\n",
       "    .dataframe thead th {\n",
       "        text-align: right;\n",
       "    }\n",
       "</style>\n",
       "<table border=\"1\" class=\"dataframe\">\n",
       "  <thead>\n",
       "    <tr style=\"text-align: right;\">\n",
       "      <th></th>\n",
       "      <th>CUNY_ID</th>\n",
       "      <th>NumBears</th>\n",
       "      <th>Speed</th>\n",
       "      <th>Unnamed: 3</th>\n",
       "      <th>Unnamed: 4</th>\n",
       "      <th>Unnamed: 5</th>\n",
       "      <th>FirstName</th>\n",
       "      <th>LastName</th>\n",
       "      <th>Grade</th>\n",
       "      <th>SplitGrade</th>\n",
       "      <th>GradePlusHours</th>\n",
       "    </tr>\n",
       "  </thead>\n",
       "  <tbody>\n",
       "    <tr>\n",
       "      <th>0</th>\n",
       "      <td>19539</td>\n",
       "      <td>1</td>\n",
       "      <td>1.2</td>\n",
       "      <td>NaN</td>\n",
       "      <td>NaN</td>\n",
       "      <td>NaN</td>\n",
       "      <td>Jazlene</td>\n",
       "      <td>Woodard</td>\n",
       "      <td>96</td>\n",
       "      <td>Good Grades</td>\n",
       "      <td>142</td>\n",
       "    </tr>\n",
       "    <tr>\n",
       "      <th>1</th>\n",
       "      <td>99968</td>\n",
       "      <td>2</td>\n",
       "      <td>3.8</td>\n",
       "      <td>NaN</td>\n",
       "      <td>NaN</td>\n",
       "      <td>NaN</td>\n",
       "      <td>Layla</td>\n",
       "      <td>Villegas</td>\n",
       "      <td>95</td>\n",
       "      <td>Good Grades</td>\n",
       "      <td>142</td>\n",
       "    </tr>\n",
       "    <tr>\n",
       "      <th>2</th>\n",
       "      <td>11759</td>\n",
       "      <td>2</td>\n",
       "      <td>4.0</td>\n",
       "      <td>NaN</td>\n",
       "      <td>NaN</td>\n",
       "      <td>NaN</td>\n",
       "      <td>Trevin</td>\n",
       "      <td>Edwards</td>\n",
       "      <td>94</td>\n",
       "      <td>Good Grades</td>\n",
       "      <td>141</td>\n",
       "    </tr>\n",
       "    <tr>\n",
       "      <th>3</th>\n",
       "      <td>72487</td>\n",
       "      <td>3</td>\n",
       "      <td>3.3</td>\n",
       "      <td>NaN</td>\n",
       "      <td>NaN</td>\n",
       "      <td>NaN</td>\n",
       "      <td>Karson</td>\n",
       "      <td>Richardson</td>\n",
       "      <td>93</td>\n",
       "      <td>Good Grades</td>\n",
       "      <td>140</td>\n",
       "    </tr>\n",
       "    <tr>\n",
       "      <th>4</th>\n",
       "      <td>70794</td>\n",
       "      <td>3</td>\n",
       "      <td>5.7</td>\n",
       "      <td>NaN</td>\n",
       "      <td>NaN</td>\n",
       "      <td>NaN</td>\n",
       "      <td>Aileen</td>\n",
       "      <td>Jimenez</td>\n",
       "      <td>92</td>\n",
       "      <td>Good Grades</td>\n",
       "      <td>138</td>\n",
       "    </tr>\n",
       "  </tbody>\n",
       "</table>\n",
       "</div>"
      ],
      "text/plain": [
       "   CUNY_ID  NumBears  Speed  Unnamed: 3  Unnamed: 4  Unnamed: 5 FirstName  \\\n",
       "0    19539         1    1.2         NaN         NaN         NaN   Jazlene   \n",
       "1    99968         2    3.8         NaN         NaN         NaN     Layla   \n",
       "2    11759         2    4.0         NaN         NaN         NaN    Trevin   \n",
       "3    72487         3    3.3         NaN         NaN         NaN    Karson   \n",
       "4    70794         3    5.7         NaN         NaN         NaN    Aileen   \n",
       "\n",
       "     LastName  Grade   SplitGrade  GradePlusHours  \n",
       "0     Woodard     96  Good Grades             142  \n",
       "1    Villegas     95  Good Grades             142  \n",
       "2     Edwards     94  Good Grades             141  \n",
       "3  Richardson     93  Good Grades             140  \n",
       "4     Jimenez     92  Good Grades             138  "
      ]
     },
     "execution_count": 19,
     "metadata": {},
     "output_type": "execute_result"
    }
   ],
   "source": [
    "dfBearsStG[\"GradePlusHours\"] = dfBearsStG['Grade'] + dfBearsStAt['Hours_Studied']\n",
    "dfBearsStG.head()"
   ]
  },
  {
   "cell_type": "markdown",
   "metadata": {},
   "source": [
    "Last of all, use seaborn to see if there is a relationship between this new value (\"GradePlusHours\") and Speed"
   ]
  },
  {
   "cell_type": "code",
   "execution_count": 20,
   "metadata": {},
   "outputs": [
    {
     "name": "stdout",
     "output_type": "stream",
     "text": [
      "119.23333333333333\n"
     ]
    }
   ],
   "source": [
    "print(dfBearsStG[\"GradePlusHours\"].mean())"
   ]
  },
  {
   "cell_type": "code",
   "execution_count": 22,
   "metadata": {},
   "outputs": [
    {
     "data": {
      "text/html": [
       "<div>\n",
       "<style scoped>\n",
       "    .dataframe tbody tr th:only-of-type {\n",
       "        vertical-align: middle;\n",
       "    }\n",
       "\n",
       "    .dataframe tbody tr th {\n",
       "        vertical-align: top;\n",
       "    }\n",
       "\n",
       "    .dataframe thead th {\n",
       "        text-align: right;\n",
       "    }\n",
       "</style>\n",
       "<table border=\"1\" class=\"dataframe\">\n",
       "  <thead>\n",
       "    <tr style=\"text-align: right;\">\n",
       "      <th></th>\n",
       "      <th>CUNY_ID</th>\n",
       "      <th>NumBears</th>\n",
       "      <th>Speed</th>\n",
       "      <th>Unnamed: 3</th>\n",
       "      <th>Unnamed: 4</th>\n",
       "      <th>Unnamed: 5</th>\n",
       "      <th>FirstName</th>\n",
       "      <th>LastName</th>\n",
       "      <th>Grade</th>\n",
       "      <th>SplitGrade</th>\n",
       "      <th>GradePlusHours</th>\n",
       "      <th>SplitGradePlusHours</th>\n",
       "    </tr>\n",
       "  </thead>\n",
       "  <tbody>\n",
       "    <tr>\n",
       "      <th>0</th>\n",
       "      <td>19539</td>\n",
       "      <td>1</td>\n",
       "      <td>1.2</td>\n",
       "      <td>NaN</td>\n",
       "      <td>NaN</td>\n",
       "      <td>NaN</td>\n",
       "      <td>Jazlene</td>\n",
       "      <td>Woodard</td>\n",
       "      <td>96</td>\n",
       "      <td>Good Grades</td>\n",
       "      <td>142</td>\n",
       "      <td>1</td>\n",
       "    </tr>\n",
       "    <tr>\n",
       "      <th>1</th>\n",
       "      <td>99968</td>\n",
       "      <td>2</td>\n",
       "      <td>3.8</td>\n",
       "      <td>NaN</td>\n",
       "      <td>NaN</td>\n",
       "      <td>NaN</td>\n",
       "      <td>Layla</td>\n",
       "      <td>Villegas</td>\n",
       "      <td>95</td>\n",
       "      <td>Good Grades</td>\n",
       "      <td>142</td>\n",
       "      <td>1</td>\n",
       "    </tr>\n",
       "    <tr>\n",
       "      <th>2</th>\n",
       "      <td>11759</td>\n",
       "      <td>2</td>\n",
       "      <td>4.0</td>\n",
       "      <td>NaN</td>\n",
       "      <td>NaN</td>\n",
       "      <td>NaN</td>\n",
       "      <td>Trevin</td>\n",
       "      <td>Edwards</td>\n",
       "      <td>94</td>\n",
       "      <td>Good Grades</td>\n",
       "      <td>141</td>\n",
       "      <td>1</td>\n",
       "    </tr>\n",
       "    <tr>\n",
       "      <th>3</th>\n",
       "      <td>72487</td>\n",
       "      <td>3</td>\n",
       "      <td>3.3</td>\n",
       "      <td>NaN</td>\n",
       "      <td>NaN</td>\n",
       "      <td>NaN</td>\n",
       "      <td>Karson</td>\n",
       "      <td>Richardson</td>\n",
       "      <td>93</td>\n",
       "      <td>Good Grades</td>\n",
       "      <td>140</td>\n",
       "      <td>1</td>\n",
       "    </tr>\n",
       "    <tr>\n",
       "      <th>4</th>\n",
       "      <td>70794</td>\n",
       "      <td>3</td>\n",
       "      <td>5.7</td>\n",
       "      <td>NaN</td>\n",
       "      <td>NaN</td>\n",
       "      <td>NaN</td>\n",
       "      <td>Aileen</td>\n",
       "      <td>Jimenez</td>\n",
       "      <td>92</td>\n",
       "      <td>Good Grades</td>\n",
       "      <td>138</td>\n",
       "      <td>1</td>\n",
       "    </tr>\n",
       "  </tbody>\n",
       "</table>\n",
       "</div>"
      ],
      "text/plain": [
       "   CUNY_ID  NumBears  Speed  Unnamed: 3  Unnamed: 4  Unnamed: 5 FirstName  \\\n",
       "0    19539         1    1.2         NaN         NaN         NaN   Jazlene   \n",
       "1    99968         2    3.8         NaN         NaN         NaN     Layla   \n",
       "2    11759         2    4.0         NaN         NaN         NaN    Trevin   \n",
       "3    72487         3    3.3         NaN         NaN         NaN    Karson   \n",
       "4    70794         3    5.7         NaN         NaN         NaN    Aileen   \n",
       "\n",
       "     LastName  Grade   SplitGrade  GradePlusHours  SplitGradePlusHours  \n",
       "0     Woodard     96  Good Grades             142                    1  \n",
       "1    Villegas     95  Good Grades             142                    1  \n",
       "2     Edwards     94  Good Grades             141                    1  \n",
       "3  Richardson     93  Good Grades             140                    1  \n",
       "4     Jimenez     92  Good Grades             138                    1  "
      ]
     },
     "execution_count": 22,
     "metadata": {},
     "output_type": "execute_result"
    }
   ],
   "source": [
    "dfBearsStG[\"SplitGradePlusHours\"] = [1 if columnvalue > 119 else -1 for columnvalue in dfBearsStG['GradePlusHours']]\n",
    "dfBearsStG.head()"
   ]
  },
  {
   "cell_type": "code",
   "execution_count": 23,
   "metadata": {},
   "outputs": [
    {
     "data": {
      "text/plain": [
       "<seaborn.axisgrid.FacetGrid at 0x1a20391be0>"
      ]
     },
     "execution_count": 23,
     "metadata": {},
     "output_type": "execute_result"
    },
    {
     "data": {
      "image/png": "[encoded data removed]",
      "text/plain": [
       "<Figure size 470.375x360 with 1 Axes>"
      ]
     },
     "metadata": {
      "needs_background": "light"
     },
     "output_type": "display_data"
    }
   ],
   "source": [
    "sns.lmplot(x='NumBears', y = 'Speed', data = dfBearsStG, hue = 'SplitGradePlusHours')"
   ]
  },
  {
   "cell_type": "code",
   "execution_count": null,
   "metadata": {},
   "outputs": [],
   "source": []
  }
 ],
 "metadata": {
  "kernelspec": {
   "display_name": "Python 3",
   "language": "python",
   "name": "python3"
  },
  "language_info": {
   "codemirror_mode": {
    "name": "ipython",
    "version": 3
   },
   "file_extension": ".py",
   "mimetype": "text/x-python",
   "name": "python",
   "nbconvert_exporter": "python",
   "pygments_lexer": "ipython3",
   "version": "3.7.3"
  }
 },
 "nbformat": 4,
 "nbformat_minor": 2
}
